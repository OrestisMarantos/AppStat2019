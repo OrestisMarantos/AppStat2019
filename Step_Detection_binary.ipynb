{
  "nbformat": 4,
  "nbformat_minor": 0,
  "metadata": {
    "accelerator": "GPU",
    "colab": {
      "name": "Step_Detection_binary.ipynb",
      "provenance": [],
      "collapsed_sections": [
        "VhAPer-_Q-df"
      ],
      "machine_shape": "hm",
      "include_colab_link": true
    },
    "kernelspec": {
      "display_name": "Python 3",
      "name": "python3"
    }
  },
  "cells": [
    {
      "cell_type": "markdown",
      "metadata": {
        "id": "view-in-github",
        "colab_type": "text"
      },
      "source": [
        "<a href=\"https://colab.research.google.com/github/OrestisMarantos/AppStat2019/blob/master/Step_Detection_binary.ipynb\" target=\"_parent\"><img src=\"https://colab.research.google.com/assets/colab-badge.svg\" alt=\"Open In Colab\"/></a>"
      ]
    },
    {
      "cell_type": "markdown",
      "metadata": {
        "id": "1kQs6uIhKGDL"
      },
      "source": [
        "## Import necessary libraries"
      ]
    },
    {
      "cell_type": "code",
      "metadata": {
        "colab": {
          "base_uri": "https://localhost:8080/"
        },
        "id": "CHXOaqJm6tVG",
        "outputId": "3f569526-9657-41c1-fc3f-17f4469fc82f"
      },
      "source": [
        "# import tensorflow\n",
        "print(tensorflow.__version__)\n",
        "from pandas import read_csv\n",
        "from keras.models import Sequential\n",
        "from keras.layers import Dense\n",
        "# from keras.wrappers.scikit_learn import KerasClassifier\n",
        "# from sklearn.model_selection import cross_val_score\n",
        "# from sklearn.preprocessing import LabelEncoder\n",
        "# from sklearn.model_selection import StratifiedKFold\n",
        "# from sklearn.preprocessing import StandardScaler\n",
        "# from sklearn.pipeline import Pipeline\n",
        "import scipy.io\n",
        "import numpy as np\n",
        "# mlp for multi-label classification\n",
        "\n",
        "# from sklearn.datasets import make_multilabel_classification\n",
        "# from sklearn.model_selection import RepeatedKFold\n",
        "# from keras.models import Sequential\n",
        "# from keras.layers import Dense\n",
        "from sklearn.metrics import accuracy_score\n",
        "from sklearn.utils import class_weight\n",
        "import tensorflow as tf\n",
        "import tensorflow.keras.backend as K\n",
        "from sklearn.utils import shuffle\n",
        "from tensorflow.keras.utils import to_categorical"
      ],
      "execution_count": null,
      "outputs": [
        {
          "output_type": "stream",
          "name": "stdout",
          "text": [
            "2.6.0\n"
          ]
        }
      ]
    },
    {
      "cell_type": "markdown",
      "metadata": {
        "id": "8MX3yIOmKRvG"
      },
      "source": [
        "## Connect with google drive"
      ]
    },
    {
      "cell_type": "code",
      "metadata": {
        "id": "YBm7hc5G6p0r",
        "colab": {
          "base_uri": "https://localhost:8080/"
        },
        "outputId": "46d3e41e-dbb2-4eb1-8e0b-e0ac81fb8465"
      },
      "source": [
        "from google.colab import drive\n",
        "drive.mount('/content/drive')"
      ],
      "execution_count": null,
      "outputs": [
        {
          "output_type": "stream",
          "name": "stdout",
          "text": [
            "Mounted at /content/drive\n"
          ]
        }
      ]
    },
    {
      "cell_type": "markdown",
      "metadata": {
        "id": "RTfqv9pNKU9n"
      },
      "source": [
        "## Load Classes (labels: 0 or 1)"
      ]
    },
    {
      "cell_type": "code",
      "metadata": {
        "colab": {
          "base_uri": "https://localhost:8080/"
        },
        "id": "ls8HKv9l6tX1",
        "outputId": "f69b858b-70f9-4e1d-a4e3-9af5d8ee3448"
      },
      "source": [
        "\n",
        "Classes = scipy.io.loadmat('drive/MyDrive/NN_Data/Simul_0928/All_classes.mat')\n",
        "\n",
        "\n",
        "Classes = Classes['All_classes']\n",
        "# print(np.size(Classes))\n",
        "# Classes1 = scipy.io.loadmat('drive/MyDrive/NN_Data/Simul_0520_noisysteps_bin5/All_classes.mat')\n",
        "# Classes1 = Classes1['All_classes']\n",
        "# print(np.size(Classes1))\n",
        "# Classes = np.concatenate((Classes, Classes1), axis=0)\n",
        "print(Classes)\n",
        "print(np.size(Classes))\n",
        "# diff3_CK_smooth = scipy.io.loadmat('Data/diff3_CK_smooth.mat')\n",
        "print(np.shape(Classes))\n",
        "\n",
        "\n",
        "\n",
        "\n",
        "# Int_abs_max = np.max(np.abs(Intensities))\n",
        "# print(Int_abs_max)\n",
        "# Intensities = Intensities / Int_abs_max\n",
        "# # Max_Intensities = np.max(Intensities,1)\n",
        "# print(np.shape(Intensities))\n",
        "# # print(np.size(Max_Intensities))\n",
        "# # Norm_Intensities = Intensities / Max_Intensities[:,None]\n",
        "# # print(Norm_Intensities)\n",
        "# print(Intensities)\n",
        "# print(Y)"
      ],
      "execution_count": null,
      "outputs": [
        {
          "output_type": "stream",
          "name": "stdout",
          "text": [
            "[[0]\n",
            " [0]\n",
            " [0]\n",
            " ...\n",
            " [1]\n",
            " [1]\n",
            " [1]]\n",
            "11154\n",
            "(11154, 1)\n"
          ]
        }
      ]
    },
    {
      "cell_type": "markdown",
      "metadata": {
        "id": "V5VKHEdZE8WR"
      },
      "source": [
        "## Preparing classes for softmax"
      ]
    },
    {
      "cell_type": "code",
      "metadata": {
        "id": "EOreOPFyE7e4"
      },
      "source": [
        "# # Classes = to_categorical(Classes)\n",
        "\n",
        "# Classes_sftmx = np.zeros((Classes.shape[0], 3))\n",
        "# for i in range(Classes.shape[0]):\n",
        "#   if Classes[i]==1:\n",
        "#     Classes_sftmx[i,0] = 1\n",
        "#   elif Classes[i]==2:\n",
        "#     Classes_sftmx[i,1] = 1\n",
        "#   else:\n",
        "#     Classes_sftmx[i,2] = 1\n",
        "# Classes = Classes_sftmx\n",
        "\n",
        "# print(Classes) "
      ],
      "execution_count": null,
      "outputs": []
    },
    {
      "cell_type": "markdown",
      "metadata": {
        "id": "H7Xt6rqSKlT-"
      },
      "source": [
        "## Load smoothed noisy traces (Chung kennedy)"
      ]
    },
    {
      "cell_type": "code",
      "metadata": {
        "colab": {
          "base_uri": "https://localhost:8080/"
        },
        "id": "aqxO__ir6tct",
        "outputId": "7392c809-1c25-46ad-c80b-e0ac8e825158"
      },
      "source": [
        "# Traces = scipy.io.loadmat('drive/MyDrive/Simul_0518_300Frames_CleanSteps/All_traces_steps.mat')\n",
        "\n",
        "from scipy.io import matlab\n",
        "Traces = matlab.loadmat('drive/MyDrive/NN_Data/Simul_0928/All_traces_steps.mat')\n",
        "Traces = Traces['All_traces_steps']\n",
        "\n",
        "# Traces1 = scipy.io.loadmat('drive/MyDrive/NN_Data/Simul_0520_noisysteps_bin5/All_traces_steps.mat')\n",
        "# Traces1 = Traces1['All_traces_steps'] \n",
        "\n",
        "# Traces = np.concatenate((Traces, Traces1), axis=0)\n",
        "\n",
        "print(Traces.shape)\n",
        "# Traces_max = np.max(Traces)\n",
        "Min_Traces = np.min(Traces,1)\n",
        "Traces = Traces / Min_Traces[:,None]\n",
        "print(Traces)\n",
        "\n",
        "# print(np.shape(Intensities))\n",
        "# # print(np.size(Max_Intensities))\n",
        "# # Norm_Intensities = Intensities / Max_Intensities[:,None]\n",
        "# print(Traces_max)\n",
        "# Traces = Traces / np.max(Traces_max)\n",
        "# print(Traces)"
      ],
      "execution_count": null,
      "outputs": [
        {
          "output_type": "stream",
          "name": "stdout",
          "text": [
            "(11154, 900)\n",
            "[[1.23577948 1.23577948 1.22186013 ... 2.95286115 3.6093975  3.6093975 ]\n",
            " [1.20834243 1.20834243 1.28463001 ... 5.18263414 6.00713049 6.00713049]\n",
            " [1.20619292 1.20619292 1.22875773 ... 5.40301178 5.40573964 5.40573964]\n",
            " ...\n",
            " [1.12522664 1.12522664 1.18478407 ... 4.66818849 4.70643816 4.70643816]\n",
            " [1.12693298 1.12693298 1.12767459 ... 1.92046379 1.91087993 1.91087993]\n",
            " [1.         1.         1.22804132 ... 5.55092144 6.00970998 6.00970998]]\n"
          ]
        }
      ]
    },
    {
      "cell_type": "markdown",
      "metadata": {
        "id": "tLbhy6p_Kwha"
      },
      "source": [
        "## Load Derivatives of smoothed noisy traces"
      ]
    },
    {
      "cell_type": "code",
      "metadata": {
        "colab": {
          "base_uri": "https://localhost:8080/"
        },
        "id": "yOLl4qYP6tfO",
        "outputId": "f0d82e89-0ec8-48a7-fe62-f8c3337f2630"
      },
      "source": [
        "Traces_deriv = scipy.io.loadmat('drive/MyDrive/NN_Data/Simul_0928/derivat.mat')\n",
        "Traces_deriv = Traces_deriv['derivat'] \n",
        "print(Traces_deriv.shape[0])\n",
        "\n",
        "# Traces_deriv1 = scipy.io.loadmat('drive/MyDrive/NN_Data/Simul_0520_noisysteps_bin5/derivat.mat')\n",
        "# Traces_deriv1 = Traces_deriv1['derivat'] \n",
        "# print(Traces_deriv1.shape[0])\n",
        "# Traces_deriv = np.concatenate((Traces_deriv, Traces_deriv1), axis=0)\n",
        "# print(Traces_deriv)\n",
        "# print(Traces_deriv.shape)\n",
        "# Traces_deriv_max = np.max(np.abs(Traces_deriv),1)\n",
        "# print(Traces_deriv_max)\n",
        "# Traces_deriv = Traces_deriv / Traces_deriv_max[:,None]\n",
        "\n",
        "#print(Traces_deriv)\n",
        "print(Traces_deriv.shape)"
      ],
      "execution_count": null,
      "outputs": [
        {
          "output_type": "stream",
          "name": "stdout",
          "text": [
            "11154\n",
            "(11154, 900)\n"
          ]
        }
      ]
    },
    {
      "cell_type": "markdown",
      "metadata": {
        "id": "uTAdbbQ0LW7V"
      },
      "source": [
        "## Random Suffling of samples"
      ]
    },
    {
      "cell_type": "code",
      "metadata": {
        "colab": {
          "base_uri": "https://localhost:8080/"
        },
        "id": "0NasJSOt3g0r",
        "outputId": "b603777f-065c-4347-cac8-b5f6f24d79f7"
      },
      "source": [
        "# randomly shuffle vesicles and their traces, derivatives and classes, all in the same way\n",
        "p = np.random.permutation(Classes.shape[0])\n",
        "\n",
        "\n",
        "Classes = Classes[p]\n",
        "Traces = Traces[p]\n",
        "Traces_deriv = Traces_deriv[p]\n",
        "print(Traces)"
      ],
      "execution_count": null,
      "outputs": [
        {
          "output_type": "stream",
          "name": "stdout",
          "text": [
            "[[1.06155153 1.06155153 1.09701497 ... 2.68794467 2.65467285 2.65467285]\n",
            " [1.         1.         1.23085168 ... 2.63422093 2.33729434 2.33729434]\n",
            " [1.         1.         1.27533842 ... 1.54336501 1.57364091 1.57364091]\n",
            " ...\n",
            " [1.         1.         1.20793156 ... 2.7930485  2.62844888 2.62844888]\n",
            " [1.08837539 1.08837539 1.171774   ... 4.16911806 4.20619338 4.20619338]\n",
            " [1.         1.         1.12683396 ... 8.14010822 8.76373842 8.76373842]]\n"
          ]
        }
      ]
    },
    {
      "cell_type": "markdown",
      "metadata": {
        "id": "Zgv1R3DE1MQB"
      },
      "source": [
        "## Combine Traces and Derivatives (2 features)"
      ]
    },
    {
      "cell_type": "code",
      "metadata": {
        "colab": {
          "base_uri": "https://localhost:8080/"
        },
        "id": "jgcreF1Z95Ed",
        "outputId": "d2cc3501-e1fc-4617-d485-fafcdd8b6100"
      },
      "source": [
        "Combo = np.zeros((Traces.shape[0],Traces.shape[1],2))\n",
        "print(Combo.shape)\n",
        "Combo[:,:,0] = Traces_deriv\n",
        "Combo[:,:,1] = Traces\n",
        "Traces = Traces_deriv"
      ],
      "execution_count": null,
      "outputs": [
        {
          "output_type": "stream",
          "name": "stdout",
          "text": [
            "(11154, 900, 2)\n"
          ]
        }
      ]
    },
    {
      "cell_type": "markdown",
      "metadata": {
        "id": "s2nf0iWULdX_"
      },
      "source": [
        "## Separation on Train and Test data"
      ]
    },
    {
      "cell_type": "code",
      "metadata": {
        "colab": {
          "base_uri": "https://localhost:8080/"
        },
        "id": "FZ9Bqpom6tnr",
        "outputId": "e79a37e3-789e-40f6-8628-6f9125ebad44"
      },
      "source": [
        "XTrain = Traces[:9000,:]\n",
        "YTrain = Classes[:9000,:]\n",
        "\n",
        "XTest = Traces[9000:,:]\n",
        "YTest = Classes[9000:,:]\n",
        "from sklearn.utils.multiclass import type_of_target\n",
        "print(np.shape(XTest))\n",
        "print(np.shape(YTest))\n",
        "print(type_of_target(YTrain))\n",
        "print(np.unique(YTrain))"
      ],
      "execution_count": null,
      "outputs": [
        {
          "output_type": "stream",
          "name": "stdout",
          "text": [
            "(2154, 900)\n",
            "(2154, 1)\n",
            "binary\n",
            "[0 1]\n"
          ]
        }
      ]
    },
    {
      "cell_type": "code",
      "metadata": {
        "colab": {
          "base_uri": "https://localhost:8080/"
        },
        "id": "mUG69el66tqD",
        "outputId": "ccb20e95-dec8-4c3f-b5e5-fe4292f72ceb"
      },
      "source": [
        "Train_samples = XTrain.shape[0]\n",
        "Test_samples = XTest.shape[0]\n",
        "timesteps = XTrain.shape[1]\n",
        "print(timesteps)\n",
        "print(Train_samples)"
      ],
      "execution_count": null,
      "outputs": [
        {
          "output_type": "stream",
          "name": "stdout",
          "text": [
            "900\n",
            "9000\n"
          ]
        }
      ]
    },
    {
      "cell_type": "markdown",
      "metadata": {
        "id": "48AMvVihL069"
      },
      "source": [
        "## LSTMS require data to be introduced in a 3 dimentional way. (samples, timesteps, features)"
      ]
    },
    {
      "cell_type": "code",
      "metadata": {
        "colab": {
          "base_uri": "https://localhost:8080/"
        },
        "id": "rEJDSK3W6ttP",
        "outputId": "5fcb67d8-15e3-48e3-ba77-12d3e5ca4dbf"
      },
      "source": [
        "XTrain = XTrain.reshape(Train_samples,timesteps,1)\n",
        "# YTrain = YTrain.reshape(Train_samples,YTrain.shape[1],1)\n",
        "print(XTrain.shape, YTrain.shape)\n",
        "\n",
        "XTest = XTest.reshape(Test_samples,timesteps,1)\n",
        "# YTest = YTest.reshape(Test_samples,YTrain.shape[1],1)\n",
        "print(XTest.shape, YTest.shape)"
      ],
      "execution_count": null,
      "outputs": [
        {
          "output_type": "stream",
          "name": "stdout",
          "text": [
            "(9000, 900, 1) (9000, 1)\n",
            "(2154, 900, 1) (2154, 1)\n"
          ]
        }
      ]
    },
    {
      "cell_type": "markdown",
      "metadata": {
        "id": "5yfOjMWiMDnp"
      },
      "source": [
        "## Develop a Bi-directional LSTM, set parameters"
      ]
    },
    {
      "cell_type": "code",
      "metadata": {
        "colab": {
          "base_uri": "https://localhost:8080/"
        },
        "id": "sEdZBklt6tyG",
        "outputId": "5d702b5a-c51b-40c0-fcb0-077440cc6eb3"
      },
      "source": [
        "import keras.backend as K\n",
        "import tensorflow as tf\n",
        "from tensorflow.keras.layers import LSTM\n",
        "from tensorflow import keras\n",
        "from keras.layers import Dropout\n",
        "from tensorflow.python.keras.layers import (Activation, BatchNormalization, Bidirectional, Conv1D, CuDNNLSTM, Dense,\n",
        "                                            Dropout, LSTM, Lambda, MaxPooling1D, TimeDistributed, add)\n",
        "\n",
        "n_timesteps = 900\n",
        "n_features = 1\n",
        "n_neurons = 900\n",
        "n_outputs = 1\n",
        "batch_size = 100\n",
        "# n_classes = 2\n",
        "# batch_size = 100\n",
        "# n_epochs = 10\n",
        "\n",
        "callbacks = [\n",
        "    # COMMENT: If the val_loss gets smaller than a specific value then the training terminates and the machine learning algorithm is saved\n",
        "    # keras.callbacks.ModelCheckpoint(\n",
        "    #     \"best_model.h5\", save_best_only=True, monitor=\"val_loss\"\n",
        "    # ),\n",
        "    # COMMENT: when reaching a plateau the learning rate reduces in each epoch by a factor of 0.5. If after patience number of epochs there is not difference in val_loss the learning terminates.\n",
        "    keras.callbacks.ReduceLROnPlateau(\n",
        "        monitor=\"val_loss\", factor=0.5, patience=7, min_lr=0.000001\n",
        "    ),\n",
        "    # COMMENT: the algorithm stops in patience steps if there is no val_loss difference.\n",
        "    keras.callbacks.EarlyStopping(monitor=\"val_loss\", patience=15, verbose=1),\n",
        "]\n",
        "\n",
        "\n",
        "# COMMENT: A Bidirectional LSTM model for trace classification. \n",
        "# ARGUMENTS: n_timesteps: number of steps in the time series, n_features: number of variables for each timeseries (In this case we have the intensity values and its derivative thus 2 features)\n",
        "# ARGUMENTS: n_neurons: number of nodes for the hidden layer, n_outputs: the number of values in the end (in this case we have 1 outuput, each trace is either 0 either 1), batch_size: The number of traces (subsample) the network optimizes simultaneously, this number needs to divide perfectly the total number of traces.\n",
        "def get_model(n_timesteps, n_features, n_neurons, n_outputs, batch_size):\n",
        "  \n",
        "  # COMMENT: A Sequential model is appropriate for a plain stack of layers where each layer has exactly one input tensor and one output tensor.\n",
        "  model = Sequential()\n",
        "\n",
        "  # COMMENT: A Bidirectional layer is two LSTM networks which run in the opposite direction. The output number is equal to the addition of the ipnut number for each LSTM.\n",
        "  # model.add(LSTM(300, input_shape=(n_timesteps,n_features)))\n",
        "  model.add(Bidirectional(LSTM(400), input_shape=(n_timesteps, 1) ))\n",
        "  \n",
        "  # COMMENT: The network do not get information from 50% of the nodes of the previous layer. In that way we avoid overfitting.\n",
        "  model.add(Dropout(0.5))\n",
        "\n",
        "  # COMMENT: A dense layer with a Relu activation function which keeps only positive values to give to the final layer which uses a sigmoid to predict a 0 or 1 value for the classification.\n",
        "  model.add(Dense(600, activation='relu'))\n",
        "  model.add(Dense(1, activation='sigmoid'))\n",
        "  \n",
        "  model.build(input_shape=(batch_size,n_timesteps, 1))\n",
        "  \n",
        "  # COMMENT: Shows a summary of the networks details\n",
        "  model.summary()\n",
        "\n",
        "  # COMMENT: Compile the model and use a loss function to minimize the error in each epoch with the use of an optimizer and a metrics function.\n",
        "  model.compile(loss='binary_crossentropy', optimizer=tf.keras.optimizers.Adam(learning_rate=0.0001), metrics = ['acc'])\n",
        "  \n",
        "  return model\n",
        "\n",
        "\n",
        "print(XTrain.shape)\n",
        "model = get_model(n_timesteps, n_features, n_neurons, n_outputs, batch_size)\n",
        "model\n",
        "\n",
        "# A percentage of test data is used for validation of the training process.\n",
        "history = model.fit(XTrain, YTrain, verbose=1, epochs=15, batch_size=100, validation_split=0.2,callbacks=callbacks)\n",
        "\n",
        "# The accuracy of the model is been tested with the use of test data.\n",
        "_, accuracy = model.evaluate(XTest, YTest, batch_size=100, verbose=1)"
      ],
      "execution_count": null,
      "outputs": [
        {
          "output_type": "stream",
          "name": "stdout",
          "text": [
            "(9000, 900, 1)\n",
            "Model: \"sequential\"\n",
            "_________________________________________________________________\n",
            "Layer (type)                 Output Shape              Param #   \n",
            "=================================================================\n",
            "module_wrapper (ModuleWrappe (100, 800)                1286400   \n",
            "_________________________________________________________________\n",
            "module_wrapper_1 (ModuleWrap (100, 800)                0         \n",
            "_________________________________________________________________\n",
            "module_wrapper_2 (ModuleWrap (100, 600)                480600    \n",
            "_________________________________________________________________\n",
            "module_wrapper_3 (ModuleWrap (100, 1)                  601       \n",
            "=================================================================\n",
            "Total params: 1,767,601\n",
            "Trainable params: 1,767,601\n",
            "Non-trainable params: 0\n",
            "_________________________________________________________________\n",
            "Epoch 1/15\n",
            "72/72 [==============================] - 285s 4s/step - loss: 0.5929 - acc: 0.6897 - val_loss: 0.5081 - val_acc: 0.7572\n",
            "Epoch 2/15\n",
            "72/72 [==============================] - 281s 4s/step - loss: 0.3783 - acc: 0.8353 - val_loss: 0.2569 - val_acc: 0.8967\n",
            "Epoch 3/15\n",
            "72/72 [==============================] - 281s 4s/step - loss: 0.2195 - acc: 0.9179 - val_loss: 0.1909 - val_acc: 0.9272\n",
            "Epoch 4/15\n",
            "72/72 [==============================] - 283s 4s/step - loss: 0.1910 - acc: 0.9318 - val_loss: 0.1629 - val_acc: 0.9439\n",
            "Epoch 5/15\n",
            "72/72 [==============================] - 279s 4s/step - loss: 0.1811 - acc: 0.9299 - val_loss: 0.1382 - val_acc: 0.9556\n",
            "Epoch 6/15\n",
            "72/72 [==============================] - 281s 4s/step - loss: 0.1614 - acc: 0.9424 - val_loss: 0.1412 - val_acc: 0.9544\n",
            "Epoch 7/15\n",
            "72/72 [==============================] - 280s 4s/step - loss: 0.1525 - acc: 0.9463 - val_loss: 0.1221 - val_acc: 0.9622\n",
            "Epoch 8/15\n",
            "72/72 [==============================] - 282s 4s/step - loss: 0.1422 - acc: 0.9519 - val_loss: 0.1112 - val_acc: 0.9594\n",
            "Epoch 9/15\n",
            "72/72 [==============================] - 278s 4s/step - loss: 0.1437 - acc: 0.9447 - val_loss: 0.1053 - val_acc: 0.9622\n",
            "Epoch 10/15\n",
            "72/72 [==============================] - 285s 4s/step - loss: 0.1254 - acc: 0.9540 - val_loss: 0.1151 - val_acc: 0.9700\n",
            "Epoch 11/15\n",
            "72/72 [==============================] - 281s 4s/step - loss: 0.1165 - acc: 0.9599 - val_loss: 0.1086 - val_acc: 0.9617\n",
            "Epoch 12/15\n",
            "72/72 [==============================] - 286s 4s/step - loss: 0.1053 - acc: 0.9567 - val_loss: 0.0895 - val_acc: 0.9694\n",
            "Epoch 13/15\n",
            "72/72 [==============================] - 289s 4s/step - loss: 0.1249 - acc: 0.9533 - val_loss: 0.1079 - val_acc: 0.9667\n",
            "Epoch 14/15\n",
            "72/72 [==============================] - 287s 4s/step - loss: 0.1164 - acc: 0.9575 - val_loss: 0.1236 - val_acc: 0.9567\n",
            "Epoch 15/15\n",
            "72/72 [==============================] - 282s 4s/step - loss: 0.1092 - acc: 0.9613 - val_loss: 0.0882 - val_acc: 0.9744\n",
            "22/22 [==============================] - 24s 1s/step - loss: 0.0971 - acc: 0.9698\n"
          ]
        }
      ]
    },
    {
      "cell_type": "code",
      "metadata": {
        "colab": {
          "base_uri": "https://localhost:8080/"
        },
        "id": "beKu_uVa0dal",
        "outputId": "709c1106-8794-46d6-f49b-584039417bf0"
      },
      "source": [
        "test_loss, test_acc = model.evaluate(XTest[:2200,:], YTest[:2200,:], batch_size=100, verbose=1)\n",
        "print(\"Test accuracy\", test_acc)\n",
        "print(\"Test loss\", test_loss)"
      ],
      "execution_count": null,
      "outputs": [
        {
          "output_type": "stream",
          "name": "stdout",
          "text": [
            "22/22 [==============================] - 23s 1s/step - loss: 0.0971 - acc: 0.9698\n",
            "Test accuracy 0.9698235988616943\n",
            "Test loss 0.09710901975631714\n"
          ]
        }
      ]
    },
    {
      "cell_type": "markdown",
      "metadata": {
        "id": "IhNmU9DdQVAg"
      },
      "source": [
        "## Graph which shows training and validation data ( if they dont agree then we have an overfit)"
      ]
    },
    {
      "cell_type": "code",
      "metadata": {
        "colab": {
          "base_uri": "https://localhost:8080/",
          "height": 332
        },
        "id": "bOnmaxkE8Skj",
        "outputId": "9870247a-2f6a-4615-bfc4-cf1aa9fe5432"
      },
      "source": [
        "import matplotlib.pyplot as plt\n",
        "metric = \"acc\"\n",
        "plt.figure()\n",
        "plt.plot(history.history[metric])\n",
        "plt.plot(history.history[\"val_\" + metric])\n",
        "plt.title(\"model \" + metric)\n",
        "plt.ylabel(metric, fontsize=\"large\")\n",
        "plt.xlabel(\"epoch\", fontsize=\"large\")\n",
        "plt.legend([\"train\", \"val\"], loc=\"best\")\n",
        "plt.savefig('destination_path.eps', format='eps')\n",
        "plt.show()\n",
        "\n",
        "plt.close()\n"
      ],
      "execution_count": null,
      "outputs": [
        {
          "output_type": "stream",
          "name": "stderr",
          "text": [
            "The PostScript backend does not support transparency; partially transparent artists will be rendered opaque.\n",
            "The PostScript backend does not support transparency; partially transparent artists will be rendered opaque.\n"
          ]
        },
        {
          "output_type": "display_data",
          "data": {
            "image/png": "[encoded data removed]",
            "text/plain": [
              "<Figure size 432x288 with 1 Axes>"
            ]
          },
          "metadata": {
            "needs_background": "light"
          }
        }
      ]
    },
    {
      "cell_type": "code",
      "metadata": {
        "id": "UGML6gtjlgMU",
        "colab": {
          "base_uri": "https://localhost:8080/",
          "height": 402
        },
        "outputId": "e9993907-d8b5-4d30-9175-d2965c33efbd"
      },
      "source": [
        "scores = list()\n",
        "XTest = XTest[:2200,:]\n",
        "YTest = YTest[:2200,:]\n",
        "print(YTest.shape)\n",
        "for r in range(10):\n",
        "  # p = np.random.permutation(Classes.shape[0])\n",
        "\n",
        "\n",
        "  # Classes = Classes[p]\n",
        "  # Traces = Traces[p]\n",
        "  # p = np.random.permutation(Classes.shape[0])\n",
        "  # YTest = YTest[p]\n",
        "  # XTest = XTest[p]\n",
        "\ttest_loss, test_acc = model.evaluate(XTest, YTest, batch_size=100, verbose=1)\n",
        "\tscore = test_acc * 100.0\n",
        "\tprint('>#%d: %.3f' % (r+1, score))\n",
        "\tscores.append(score)\n",
        "  \n",
        "\n",
        "\n",
        "# p = np.random.permutation(Classes.shape[0])\n",
        "\n",
        "\n",
        "# Classes = Classes[p]\n",
        "# Traces = Traces[p]\n",
        "# Traces_deriv = Traces_deriv[p]\n",
        "# print(Traces)"
      ],
      "execution_count": null,
      "outputs": [
        {
          "output_type": "stream",
          "name": "stdout",
          "text": [
            "(2154, 1)\n",
            "12/22 [===============>..............] - ETA: 10s - loss: 0.1048 - acc: 0.9650"
          ]
        },
        {
          "output_type": "error",
          "ename": "KeyboardInterrupt",
          "evalue": "ignored",
          "traceback": [
            "\u001b[0;31m---------------------------------------------------------------------------\u001b[0m",
            "\u001b[0;31mKeyboardInterrupt\u001b[0m                         Traceback (most recent call last)",
            "\u001b[0;32m<ipython-input-18-a72dea695f72>\u001b[0m in \u001b[0;36m<module>\u001b[0;34m()\u001b[0m\n\u001b[1;32m     12\u001b[0m   \u001b[0;31m# YTest = YTest[p]\u001b[0m\u001b[0;34m\u001b[0m\u001b[0;34m\u001b[0m\u001b[0;34m\u001b[0m\u001b[0m\n\u001b[1;32m     13\u001b[0m   \u001b[0;31m# XTest = XTest[p]\u001b[0m\u001b[0;34m\u001b[0m\u001b[0;34m\u001b[0m\u001b[0;34m\u001b[0m\u001b[0m\n\u001b[0;32m---> 14\u001b[0;31m         \u001b[0mtest_loss\u001b[0m\u001b[0;34m,\u001b[0m \u001b[0mtest_acc\u001b[0m \u001b[0;34m=\u001b[0m \u001b[0mmodel\u001b[0m\u001b[0;34m.\u001b[0m\u001b[0mevaluate\u001b[0m\u001b[0;34m(\u001b[0m\u001b[0mXTest\u001b[0m\u001b[0;34m,\u001b[0m \u001b[0mYTest\u001b[0m\u001b[0;34m,\u001b[0m \u001b[0mbatch_size\u001b[0m\u001b[0;34m=\u001b[0m\u001b[0;36m100\u001b[0m\u001b[0;34m,\u001b[0m \u001b[0mverbose\u001b[0m\u001b[0;34m=\u001b[0m\u001b[0;36m1\u001b[0m\u001b[0;34m)\u001b[0m\u001b[0;34m\u001b[0m\u001b[0;34m\u001b[0m\u001b[0m\n\u001b[0m\u001b[1;32m     15\u001b[0m         \u001b[0mscore\u001b[0m \u001b[0;34m=\u001b[0m \u001b[0mtest_acc\u001b[0m \u001b[0;34m*\u001b[0m \u001b[0;36m100.0\u001b[0m\u001b[0;34m\u001b[0m\u001b[0;34m\u001b[0m\u001b[0m\n\u001b[1;32m     16\u001b[0m         \u001b[0mprint\u001b[0m\u001b[0;34m(\u001b[0m\u001b[0;34m'>#%d: %.3f'\u001b[0m \u001b[0;34m%\u001b[0m \u001b[0;34m(\u001b[0m\u001b[0mr\u001b[0m\u001b[0;34m+\u001b[0m\u001b[0;36m1\u001b[0m\u001b[0;34m,\u001b[0m \u001b[0mscore\u001b[0m\u001b[0;34m)\u001b[0m\u001b[0;34m)\u001b[0m\u001b[0;34m\u001b[0m\u001b[0;34m\u001b[0m\u001b[0m\n",
            "\u001b[0;32m/usr/local/lib/python3.7/dist-packages/keras/engine/training.py\u001b[0m in \u001b[0;36mevaluate\u001b[0;34m(self, x, y, batch_size, verbose, sample_weight, steps, callbacks, max_queue_size, workers, use_multiprocessing, return_dict, **kwargs)\u001b[0m\n\u001b[1;32m   1499\u001b[0m             \u001b[0;32mwith\u001b[0m \u001b[0mtf\u001b[0m\u001b[0;34m.\u001b[0m\u001b[0mprofiler\u001b[0m\u001b[0;34m.\u001b[0m\u001b[0mexperimental\u001b[0m\u001b[0;34m.\u001b[0m\u001b[0mTrace\u001b[0m\u001b[0;34m(\u001b[0m\u001b[0;34m'test'\u001b[0m\u001b[0;34m,\u001b[0m \u001b[0mstep_num\u001b[0m\u001b[0;34m=\u001b[0m\u001b[0mstep\u001b[0m\u001b[0;34m,\u001b[0m \u001b[0m_r\u001b[0m\u001b[0;34m=\u001b[0m\u001b[0;36m1\u001b[0m\u001b[0;34m)\u001b[0m\u001b[0;34m:\u001b[0m\u001b[0;34m\u001b[0m\u001b[0;34m\u001b[0m\u001b[0m\n\u001b[1;32m   1500\u001b[0m               \u001b[0mcallbacks\u001b[0m\u001b[0;34m.\u001b[0m\u001b[0mon_test_batch_begin\u001b[0m\u001b[0;34m(\u001b[0m\u001b[0mstep\u001b[0m\u001b[0;34m)\u001b[0m\u001b[0;34m\u001b[0m\u001b[0;34m\u001b[0m\u001b[0m\n\u001b[0;32m-> 1501\u001b[0;31m               \u001b[0mtmp_logs\u001b[0m \u001b[0;34m=\u001b[0m \u001b[0mself\u001b[0m\u001b[0;34m.\u001b[0m\u001b[0mtest_function\u001b[0m\u001b[0;34m(\u001b[0m\u001b[0miterator\u001b[0m\u001b[0;34m)\u001b[0m\u001b[0;34m\u001b[0m\u001b[0;34m\u001b[0m\u001b[0m\n\u001b[0m\u001b[1;32m   1502\u001b[0m               \u001b[0;32mif\u001b[0m \u001b[0mdata_handler\u001b[0m\u001b[0;34m.\u001b[0m\u001b[0mshould_sync\u001b[0m\u001b[0;34m:\u001b[0m\u001b[0;34m\u001b[0m\u001b[0;34m\u001b[0m\u001b[0m\n\u001b[1;32m   1503\u001b[0m                 \u001b[0mcontext\u001b[0m\u001b[0;34m.\u001b[0m\u001b[0masync_wait\u001b[0m\u001b[0;34m(\u001b[0m\u001b[0;34m)\u001b[0m\u001b[0;34m\u001b[0m\u001b[0;34m\u001b[0m\u001b[0m\n",
            "\u001b[0;32m/usr/local/lib/python3.7/dist-packages/tensorflow/python/eager/def_function.py\u001b[0m in \u001b[0;36m__call__\u001b[0;34m(self, *args, **kwds)\u001b[0m\n\u001b[1;32m    883\u001b[0m \u001b[0;34m\u001b[0m\u001b[0m\n\u001b[1;32m    884\u001b[0m       \u001b[0;32mwith\u001b[0m \u001b[0mOptionalXlaContext\u001b[0m\u001b[0;34m(\u001b[0m\u001b[0mself\u001b[0m\u001b[0;34m.\u001b[0m\u001b[0m_jit_compile\u001b[0m\u001b[0;34m)\u001b[0m\u001b[0;34m:\u001b[0m\u001b[0;34m\u001b[0m\u001b[0;34m\u001b[0m\u001b[0m\n\u001b[0;32m--> 885\u001b[0;31m         \u001b[0mresult\u001b[0m \u001b[0;34m=\u001b[0m \u001b[0mself\u001b[0m\u001b[0;34m.\u001b[0m\u001b[0m_call\u001b[0m\u001b[0;34m(\u001b[0m\u001b[0;34m*\u001b[0m\u001b[0margs\u001b[0m\u001b[0;34m,\u001b[0m \u001b[0;34m**\u001b[0m\u001b[0mkwds\u001b[0m\u001b[0;34m)\u001b[0m\u001b[0;34m\u001b[0m\u001b[0;34m\u001b[0m\u001b[0m\n\u001b[0m\u001b[1;32m    886\u001b[0m \u001b[0;34m\u001b[0m\u001b[0m\n\u001b[1;32m    887\u001b[0m       \u001b[0mnew_tracing_count\u001b[0m \u001b[0;34m=\u001b[0m \u001b[0mself\u001b[0m\u001b[0;34m.\u001b[0m\u001b[0mexperimental_get_tracing_count\u001b[0m\u001b[0;34m(\u001b[0m\u001b[0;34m)\u001b[0m\u001b[0;34m\u001b[0m\u001b[0;34m\u001b[0m\u001b[0m\n",
            "\u001b[0;32m/usr/local/lib/python3.7/dist-packages/tensorflow/python/eager/def_function.py\u001b[0m in \u001b[0;36m_call\u001b[0;34m(self, *args, **kwds)\u001b[0m\n\u001b[1;32m    922\u001b[0m       \u001b[0;31m# In this case we have not created variables on the first call. So we can\u001b[0m\u001b[0;34m\u001b[0m\u001b[0;34m\u001b[0m\u001b[0;34m\u001b[0m\u001b[0m\n\u001b[1;32m    923\u001b[0m       \u001b[0;31m# run the first trace but we should fail if variables are created.\u001b[0m\u001b[0;34m\u001b[0m\u001b[0;34m\u001b[0m\u001b[0;34m\u001b[0m\u001b[0m\n\u001b[0;32m--> 924\u001b[0;31m       \u001b[0mresults\u001b[0m \u001b[0;34m=\u001b[0m \u001b[0mself\u001b[0m\u001b[0;34m.\u001b[0m\u001b[0m_stateful_fn\u001b[0m\u001b[0;34m(\u001b[0m\u001b[0;34m*\u001b[0m\u001b[0margs\u001b[0m\u001b[0;34m,\u001b[0m \u001b[0;34m**\u001b[0m\u001b[0mkwds\u001b[0m\u001b[0;34m)\u001b[0m\u001b[0;34m\u001b[0m\u001b[0;34m\u001b[0m\u001b[0m\n\u001b[0m\u001b[1;32m    925\u001b[0m       \u001b[0;32mif\u001b[0m \u001b[0mself\u001b[0m\u001b[0;34m.\u001b[0m\u001b[0m_created_variables\u001b[0m \u001b[0;32mand\u001b[0m \u001b[0;32mnot\u001b[0m \u001b[0mALLOW_DYNAMIC_VARIABLE_CREATION\u001b[0m\u001b[0;34m:\u001b[0m\u001b[0;34m\u001b[0m\u001b[0;34m\u001b[0m\u001b[0m\n\u001b[1;32m    926\u001b[0m         raise ValueError(\"Creating variables on a non-first call to a function\"\n",
            "\u001b[0;32m/usr/local/lib/python3.7/dist-packages/tensorflow/python/eager/function.py\u001b[0m in \u001b[0;36m__call__\u001b[0;34m(self, *args, **kwargs)\u001b[0m\n\u001b[1;32m   3038\u001b[0m        filtered_flat_args) = self._maybe_define_function(args, kwargs)\n\u001b[1;32m   3039\u001b[0m     return graph_function._call_flat(\n\u001b[0;32m-> 3040\u001b[0;31m         filtered_flat_args, captured_inputs=graph_function.captured_inputs)  # pylint: disable=protected-access\n\u001b[0m\u001b[1;32m   3041\u001b[0m \u001b[0;34m\u001b[0m\u001b[0m\n\u001b[1;32m   3042\u001b[0m   \u001b[0;34m@\u001b[0m\u001b[0mproperty\u001b[0m\u001b[0;34m\u001b[0m\u001b[0;34m\u001b[0m\u001b[0m\n",
            "\u001b[0;32m/usr/local/lib/python3.7/dist-packages/tensorflow/python/eager/function.py\u001b[0m in \u001b[0;36m_call_flat\u001b[0;34m(self, args, captured_inputs, cancellation_manager)\u001b[0m\n\u001b[1;32m   1962\u001b[0m       \u001b[0;31m# No tape is watching; skip to running the function.\u001b[0m\u001b[0;34m\u001b[0m\u001b[0;34m\u001b[0m\u001b[0;34m\u001b[0m\u001b[0m\n\u001b[1;32m   1963\u001b[0m       return self._build_call_outputs(self._inference_function.call(\n\u001b[0;32m-> 1964\u001b[0;31m           ctx, args, cancellation_manager=cancellation_manager))\n\u001b[0m\u001b[1;32m   1965\u001b[0m     forward_backward = self._select_forward_and_backward_functions(\n\u001b[1;32m   1966\u001b[0m         \u001b[0margs\u001b[0m\u001b[0;34m,\u001b[0m\u001b[0;34m\u001b[0m\u001b[0;34m\u001b[0m\u001b[0m\n",
            "\u001b[0;32m/usr/local/lib/python3.7/dist-packages/tensorflow/python/eager/function.py\u001b[0m in \u001b[0;36mcall\u001b[0;34m(self, ctx, args, cancellation_manager)\u001b[0m\n\u001b[1;32m    594\u001b[0m               \u001b[0minputs\u001b[0m\u001b[0;34m=\u001b[0m\u001b[0margs\u001b[0m\u001b[0;34m,\u001b[0m\u001b[0;34m\u001b[0m\u001b[0;34m\u001b[0m\u001b[0m\n\u001b[1;32m    595\u001b[0m               \u001b[0mattrs\u001b[0m\u001b[0;34m=\u001b[0m\u001b[0mattrs\u001b[0m\u001b[0;34m,\u001b[0m\u001b[0;34m\u001b[0m\u001b[0;34m\u001b[0m\u001b[0m\n\u001b[0;32m--> 596\u001b[0;31m               ctx=ctx)\n\u001b[0m\u001b[1;32m    597\u001b[0m         \u001b[0;32melse\u001b[0m\u001b[0;34m:\u001b[0m\u001b[0;34m\u001b[0m\u001b[0;34m\u001b[0m\u001b[0m\n\u001b[1;32m    598\u001b[0m           outputs = execute.execute_with_cancellation(\n",
            "\u001b[0;32m/usr/local/lib/python3.7/dist-packages/tensorflow/python/eager/execute.py\u001b[0m in \u001b[0;36mquick_execute\u001b[0;34m(op_name, num_outputs, inputs, attrs, ctx, name)\u001b[0m\n\u001b[1;32m     58\u001b[0m     \u001b[0mctx\u001b[0m\u001b[0;34m.\u001b[0m\u001b[0mensure_initialized\u001b[0m\u001b[0;34m(\u001b[0m\u001b[0;34m)\u001b[0m\u001b[0;34m\u001b[0m\u001b[0;34m\u001b[0m\u001b[0m\n\u001b[1;32m     59\u001b[0m     tensors = pywrap_tfe.TFE_Py_Execute(ctx._handle, device_name, op_name,\n\u001b[0;32m---> 60\u001b[0;31m                                         inputs, attrs, num_outputs)\n\u001b[0m\u001b[1;32m     61\u001b[0m   \u001b[0;32mexcept\u001b[0m \u001b[0mcore\u001b[0m\u001b[0;34m.\u001b[0m\u001b[0m_NotOkStatusException\u001b[0m \u001b[0;32mas\u001b[0m \u001b[0me\u001b[0m\u001b[0;34m:\u001b[0m\u001b[0;34m\u001b[0m\u001b[0;34m\u001b[0m\u001b[0m\n\u001b[1;32m     62\u001b[0m     \u001b[0;32mif\u001b[0m \u001b[0mname\u001b[0m \u001b[0;32mis\u001b[0m \u001b[0;32mnot\u001b[0m \u001b[0;32mNone\u001b[0m\u001b[0;34m:\u001b[0m\u001b[0;34m\u001b[0m\u001b[0;34m\u001b[0m\u001b[0m\n",
            "\u001b[0;31mKeyboardInterrupt\u001b[0m: "
          ]
        }
      ]
    },
    {
      "cell_type": "markdown",
      "metadata": {
        "id": "ydPZAHXdVqSI"
      },
      "source": [
        "## Load Experimental Data"
      ]
    },
    {
      "cell_type": "code",
      "metadata": {
        "id": "sOSsLONOTvtT",
        "colab": {
          "base_uri": "https://localhost:8080/"
        },
        "outputId": "e8aad33b-0107-4a49-8abf-a1e15d937c9b"
      },
      "source": [
        "Real_Data = matlab.loadmat('drive/MyDrive/NN_Data/Real_Experimental_Data/Real_Traces.mat')\n",
        "Real_Classes = Real_Data['Classes']\n",
        "Real_derivat = Real_Data['derivat']\n",
        "Real_Traces = Real_Data['Traces']\n",
        "Min_Real_Traces = np.min(Real_Traces,1)\n",
        "Real_Traces = Real_Traces / Min_Real_Traces[:,None]\n",
        "\n",
        "print(np.sum(Real_Classes==2))\n",
        "print(np.sum(Real_Classes!=2))\n",
        "print(Real_Classes.shape)\n",
        "#print(Real_Classes[0,0] == 4)\n",
        "#print(Real_Traces)"
      ],
      "execution_count": null,
      "outputs": [
        {
          "output_type": "stream",
          "name": "stdout",
          "text": [
            "242\n",
            "78\n",
            "(320, 1)\n"
          ]
        }
      ]
    },
    {
      "cell_type": "markdown",
      "metadata": {
        "id": "lr_8evV4KbMQ"
      },
      "source": [
        "## Preprocessing of Experimental Data labels"
      ]
    },
    {
      "cell_type": "code",
      "metadata": {
        "colab": {
          "base_uri": "https://localhost:8080/"
        },
        "id": "802XXMsFVuf4",
        "outputId": "ae4aa230-d064-4a45-9163-c1a76589e6a4"
      },
      "source": [
        "# Run once\n",
        "print(Real_Classes.shape)\n",
        "for i in range(Real_Classes.shape[0]):\n",
        "  \n",
        "  if Real_Classes[i,0] == 2:\n",
        "    Real_Classes[i,0] = 0\n",
        "  else:\n",
        "    Real_Classes[i,0] = 1\n",
        "\n",
        "Real_Classes = np.round(Real_Classes)\n",
        "print(np.sum(Real_Classes==0))"
      ],
      "execution_count": null,
      "outputs": [
        {
          "output_type": "stream",
          "name": "stdout",
          "text": [
            "(320, 1)\n",
            "242\n"
          ]
        }
      ]
    },
    {
      "cell_type": "code",
      "metadata": {
        "colab": {
          "base_uri": "https://localhost:8080/"
        },
        "id": "hT_xZUNUNXNg",
        "outputId": "485c88cc-8e6e-4754-c840-2928bd95069a"
      },
      "source": [
        "print(np.sum(Real_Classes==0))\n",
        "print(np.sum(Real_Classes==1))"
      ],
      "execution_count": null,
      "outputs": [
        {
          "output_type": "stream",
          "name": "stdout",
          "text": [
            "242\n",
            "78\n"
          ]
        }
      ]
    },
    {
      "cell_type": "markdown",
      "metadata": {
        "id": "g_MWvteSKo7r"
      },
      "source": [
        "## Combine the data in a 3D matrix as LSTM model requires"
      ]
    },
    {
      "cell_type": "code",
      "metadata": {
        "colab": {
          "base_uri": "https://localhost:8080/"
        },
        "id": "_xVTLzFHTwCH",
        "outputId": "5085384c-485e-4eb4-a9d5-2dd607046460"
      },
      "source": [
        "Combo_Real = np.zeros((Real_Traces.shape[0],Real_Traces.shape[1],2))\n",
        "print(Combo_Real.shape)\n",
        "Combo_Real[:,:,0] = Real_derivat\n",
        "Combo_Real[:,:,1] = Real_Traces"
      ],
      "execution_count": null,
      "outputs": [
        {
          "output_type": "stream",
          "name": "stdout",
          "text": [
            "(320, 900, 2)\n"
          ]
        }
      ]
    },
    {
      "cell_type": "code",
      "metadata": {
        "colab": {
          "base_uri": "https://localhost:8080/"
        },
        "id": "OTypo4COqn9p",
        "outputId": "c13d9b6e-ca8c-4fa0-ec56-e05ecf32d7ac"
      },
      "source": [
        "Real_derivat = Real_derivat.reshape(Real_Traces.shape[0],Real_Traces.shape[1],1)\n",
        "test_loss, test_acc = model.evaluate(Real_Traces, Real_Classes, batch_size=100, verbose=1)\n",
        "print(\"Test accuracy\", test_acc)\n",
        "print(\"Test loss\", test_loss)"
      ],
      "execution_count": null,
      "outputs": [
        {
          "output_type": "stream",
          "name": "stdout",
          "text": [
            "4/4 [==============================] - 5s 1s/step - loss: 0.6417 - acc: 0.7563\n",
            "Test accuracy 0.7562500238418579\n",
            "Test loss 0.6417109370231628\n"
          ]
        }
      ]
    },
    {
      "cell_type": "markdown",
      "metadata": {
        "id": "ReMUZhaIKzXx"
      },
      "source": [
        "## Predict the labels by running the model and round the results"
      ]
    },
    {
      "cell_type": "code",
      "metadata": {
        "id": "JW9ZGWS1q5qi"
      },
      "source": [
        "predictResult = model.predict(Real_Traces)"
      ],
      "execution_count": null,
      "outputs": []
    },
    {
      "cell_type": "code",
      "metadata": {
        "colab": {
          "base_uri": "https://localhost:8080/"
        },
        "id": "edj-z23RrfcH",
        "outputId": "8d74ab80-57e5-462a-f19f-92f17218dd9e"
      },
      "source": [
        "print(np.round(predictResult))"
      ],
      "execution_count": null,
      "outputs": [
        {
          "output_type": "stream",
          "name": "stdout",
          "text": [
            "[[0.]\n",
            " [0.]\n",
            " [0.]\n",
            " [0.]\n",
            " [0.]\n",
            " [0.]\n",
            " [0.]\n",
            " [0.]\n",
            " [0.]\n",
            " [0.]\n",
            " [0.]\n",
            " [0.]\n",
            " [0.]\n",
            " [0.]\n",
            " [0.]\n",
            " [0.]\n",
            " [0.]\n",
            " [0.]\n",
            " [0.]\n",
            " [0.]\n",
            " [0.]\n",
            " [0.]\n",
            " [0.]\n",
            " [0.]\n",
            " [0.]\n",
            " [0.]\n",
            " [0.]\n",
            " [0.]\n",
            " [0.]\n",
            " [0.]\n",
            " [0.]\n",
            " [0.]\n",
            " [0.]\n",
            " [0.]\n",
            " [0.]\n",
            " [0.]\n",
            " [0.]\n",
            " [0.]\n",
            " [0.]\n",
            " [0.]\n",
            " [0.]\n",
            " [0.]\n",
            " [0.]\n",
            " [0.]\n",
            " [0.]\n",
            " [0.]\n",
            " [0.]\n",
            " [0.]\n",
            " [0.]\n",
            " [0.]\n",
            " [0.]\n",
            " [0.]\n",
            " [0.]\n",
            " [0.]\n",
            " [0.]\n",
            " [0.]\n",
            " [0.]\n",
            " [0.]\n",
            " [0.]\n",
            " [0.]\n",
            " [0.]\n",
            " [0.]\n",
            " [0.]\n",
            " [0.]\n",
            " [0.]\n",
            " [0.]\n",
            " [0.]\n",
            " [0.]\n",
            " [0.]\n",
            " [0.]\n",
            " [0.]\n",
            " [0.]\n",
            " [0.]\n",
            " [0.]\n",
            " [0.]\n",
            " [0.]\n",
            " [0.]\n",
            " [0.]\n",
            " [0.]\n",
            " [0.]\n",
            " [0.]\n",
            " [0.]\n",
            " [0.]\n",
            " [0.]\n",
            " [0.]\n",
            " [0.]\n",
            " [0.]\n",
            " [0.]\n",
            " [0.]\n",
            " [0.]\n",
            " [0.]\n",
            " [0.]\n",
            " [0.]\n",
            " [0.]\n",
            " [0.]\n",
            " [0.]\n",
            " [0.]\n",
            " [0.]\n",
            " [0.]\n",
            " [0.]\n",
            " [0.]\n",
            " [0.]\n",
            " [0.]\n",
            " [0.]\n",
            " [0.]\n",
            " [0.]\n",
            " [0.]\n",
            " [0.]\n",
            " [0.]\n",
            " [0.]\n",
            " [0.]\n",
            " [0.]\n",
            " [0.]\n",
            " [0.]\n",
            " [0.]\n",
            " [0.]\n",
            " [0.]\n",
            " [0.]\n",
            " [0.]\n",
            " [0.]\n",
            " [0.]\n",
            " [0.]\n",
            " [0.]\n",
            " [0.]\n",
            " [0.]\n",
            " [0.]\n",
            " [0.]\n",
            " [0.]\n",
            " [0.]\n",
            " [0.]\n",
            " [0.]\n",
            " [0.]\n",
            " [0.]\n",
            " [0.]\n",
            " [0.]\n",
            " [0.]\n",
            " [0.]\n",
            " [0.]\n",
            " [0.]\n",
            " [0.]\n",
            " [0.]\n",
            " [0.]\n",
            " [0.]\n",
            " [0.]\n",
            " [0.]\n",
            " [0.]\n",
            " [0.]\n",
            " [0.]\n",
            " [0.]\n",
            " [0.]\n",
            " [0.]\n",
            " [0.]\n",
            " [0.]\n",
            " [0.]\n",
            " [0.]\n",
            " [0.]\n",
            " [0.]\n",
            " [0.]\n",
            " [0.]\n",
            " [0.]\n",
            " [0.]\n",
            " [0.]\n",
            " [0.]\n",
            " [0.]\n",
            " [0.]\n",
            " [0.]\n",
            " [0.]\n",
            " [0.]\n",
            " [0.]\n",
            " [0.]\n",
            " [0.]\n",
            " [0.]\n",
            " [0.]\n",
            " [0.]\n",
            " [0.]\n",
            " [0.]\n",
            " [0.]\n",
            " [0.]\n",
            " [0.]\n",
            " [0.]\n",
            " [0.]\n",
            " [0.]\n",
            " [0.]\n",
            " [0.]\n",
            " [0.]\n",
            " [0.]\n",
            " [0.]\n",
            " [0.]\n",
            " [0.]\n",
            " [0.]\n",
            " [0.]\n",
            " [0.]\n",
            " [0.]\n",
            " [0.]\n",
            " [0.]\n",
            " [0.]\n",
            " [0.]\n",
            " [0.]\n",
            " [0.]\n",
            " [0.]\n",
            " [0.]\n",
            " [0.]\n",
            " [0.]\n",
            " [0.]\n",
            " [0.]\n",
            " [0.]\n",
            " [0.]\n",
            " [0.]\n",
            " [0.]\n",
            " [0.]\n",
            " [0.]\n",
            " [0.]\n",
            " [0.]\n",
            " [0.]\n",
            " [0.]\n",
            " [0.]\n",
            " [0.]\n",
            " [0.]\n",
            " [0.]\n",
            " [0.]\n",
            " [0.]\n",
            " [0.]\n",
            " [0.]\n",
            " [0.]\n",
            " [0.]\n",
            " [0.]\n",
            " [0.]\n",
            " [0.]\n",
            " [0.]\n",
            " [0.]\n",
            " [0.]\n",
            " [0.]\n",
            " [0.]\n",
            " [0.]\n",
            " [0.]\n",
            " [0.]\n",
            " [0.]\n",
            " [0.]\n",
            " [0.]\n",
            " [0.]\n",
            " [0.]\n",
            " [0.]\n",
            " [0.]\n",
            " [0.]\n",
            " [0.]\n",
            " [0.]\n",
            " [0.]\n",
            " [0.]\n",
            " [0.]\n",
            " [0.]\n",
            " [0.]\n",
            " [0.]\n",
            " [0.]\n",
            " [0.]\n",
            " [0.]\n",
            " [0.]\n",
            " [0.]\n",
            " [0.]\n",
            " [0.]\n",
            " [0.]\n",
            " [0.]\n",
            " [0.]\n",
            " [0.]\n",
            " [0.]\n",
            " [0.]\n",
            " [0.]\n",
            " [0.]\n",
            " [0.]\n",
            " [0.]\n",
            " [0.]\n",
            " [0.]\n",
            " [0.]\n",
            " [0.]\n",
            " [0.]\n",
            " [0.]\n",
            " [0.]\n",
            " [0.]\n",
            " [0.]\n",
            " [0.]\n",
            " [0.]\n",
            " [0.]\n",
            " [0.]\n",
            " [0.]\n",
            " [0.]\n",
            " [0.]\n",
            " [0.]\n",
            " [0.]\n",
            " [0.]\n",
            " [0.]\n",
            " [0.]\n",
            " [0.]\n",
            " [0.]\n",
            " [0.]\n",
            " [0.]\n",
            " [0.]\n",
            " [0.]\n",
            " [0.]\n",
            " [0.]\n",
            " [0.]\n",
            " [0.]\n",
            " [0.]\n",
            " [0.]\n",
            " [0.]\n",
            " [0.]\n",
            " [0.]\n",
            " [0.]\n",
            " [0.]\n",
            " [0.]\n",
            " [0.]\n",
            " [0.]\n",
            " [0.]\n",
            " [0.]\n",
            " [0.]\n",
            " [0.]\n",
            " [0.]\n",
            " [0.]\n",
            " [0.]\n",
            " [0.]\n",
            " [0.]\n",
            " [0.]]\n"
          ]
        }
      ]
    },
    {
      "cell_type": "code",
      "metadata": {
        "colab": {
          "base_uri": "https://localhost:8080/"
        },
        "id": "YsJ4LAYuRMCG",
        "outputId": "0073f772-4f94-4f12-87e2-dd71afd4796e"
      },
      "source": [
        "import math\n",
        "Combo_Real2 = Combo_Real.copy()\n",
        "data = np.squeeze(Combo_Real[:,:,0])\n",
        "#for i in range(data.shape[0]):\n",
        " # data[i,0] == math.pow(data[i,0],0.5)\n",
        "\n",
        "Combo_Real2[:,:,0] = data*11\n",
        "yhat = model.predict(Combo_Real2)\n",
        "#yhat = model.evaluate(Combo_Real2)\n",
        "\n",
        "test_loss, test_acc = model.evaluate(Combo_Real2, Real_Classes, batch_size=100, verbose=1)\n",
        "print(\"Test accuracy\", test_acc)\n",
        "print(\"Test loss\", test_loss)\n",
        "print(np.sum(np.round(yhat)))\n",
        "#print(yhat)"
      ],
      "execution_count": null,
      "outputs": [
        {
          "output_type": "stream",
          "text": [
            "4/4 [==============================] - 2s 389ms/step - loss: 1.3060 - acc: 0.5250\n",
            "Test accuracy 0.5249999761581421\n",
            "Test loss 1.3060194253921509\n",
            "190.0\n"
          ],
          "name": "stdout"
        }
      ]
    },
    {
      "cell_type": "code",
      "metadata": {
        "colab": {
          "base_uri": "https://localhost:8080/"
        },
        "id": "lOlvJaeOSAVM",
        "outputId": "00c283eb-4160-46ba-fb5b-e6fe956b0052"
      },
      "source": [
        "#print(np.sum(np.round(yhat)))\n",
        "#print(np.sum(np.round(Real_Classes)))\n",
        "#print(np.round(yhat[:5]))\n",
        "#print(\"aa\")\n",
        "#print(np.round(Real_Classes[:5]))\n",
        "mask = np.round(Real_Classes) == 1\n",
        "print(np.sum(mask))\n",
        "print(np.sum(np.round(Real_Classes[mask])==np.round(yhat[mask])))\n",
        "mask = np.round(Real_Classes) == 0\n",
        "print(np.sum(mask))\n",
        "print(np.sum(np.round(Real_Classes[mask])==np.round(yhat[mask])))\n",
        "print(np.sum(np.round(yhat)))"
      ],
      "execution_count": null,
      "outputs": [
        {
          "output_type": "stream",
          "text": [
            "78\n",
            "58\n",
            "242\n",
            "110\n",
            "190.0\n"
          ],
          "name": "stdout"
        }
      ]
    },
    {
      "cell_type": "code",
      "metadata": {
        "colab": {
          "base_uri": "https://localhost:8080/",
          "height": 282
        },
        "id": "iiG1K0i_RMRF",
        "outputId": "04c1bd73-187d-4c4b-f834-c042eb35a645"
      },
      "source": [
        "import matplotlib.pyplot as plt\n",
        "metric = \"acc\"\n",
        "plt.figure()\n",
        "n=20\n",
        "plt.plot(Combo_Real[n,:,1])\n",
        "print(Real_Classes[n])"
      ],
      "execution_count": null,
      "outputs": [
        {
          "output_type": "stream",
          "text": [
            "[1.]\n"
          ],
          "name": "stdout"
        },
        {
          "output_type": "display_data",
          "data": {
            "image/png": "[encoded data removed]",
            "text/plain": [
              "<Figure size 432x288 with 1 Axes>"
            ]
          },
          "metadata": {
            "tags": [],
            "needs_background": "light"
          }
        }
      ]
    },
    {
      "cell_type": "code",
      "metadata": {
        "colab": {
          "base_uri": "https://localhost:8080/"
        },
        "id": "FTgvsnheN2K3",
        "outputId": "7288548e-1709-402c-b296-05aec85536f4"
      },
      "source": [
        "#print(np.sum(yhat))\n",
        "#print(yhat)\n",
        "yhat = np.round(yhat)\n",
        "print(Real_Classes[:5,0])\n",
        "#print(yhat)\n",
        "print(np.sum(yhat))"
      ],
      "execution_count": null,
      "outputs": [
        {
          "output_type": "stream",
          "text": [
            "[1. 1. 0. 0. 0.]\n",
            "190.0\n"
          ],
          "name": "stdout"
        }
      ]
    },
    {
      "cell_type": "code",
      "metadata": {
        "id": "GOIm1wbRaxrF",
        "colab": {
          "base_uri": "https://localhost:8080/"
        },
        "outputId": "a3f94d9b-92f1-4ecb-9dd2-c20435c10827"
      },
      "source": [
        "test_loss, test_acc = model.evaluate(Combo_Real, Real_Classes, batch_size=100, verbose=1)\n",
        "print(\"Test accuracy\", test_acc)\n",
        "print(\"Test loss\", test_loss)"
      ],
      "execution_count": null,
      "outputs": [
        {
          "output_type": "stream",
          "text": [
            "4/4 [==============================] - 2s 408ms/step - loss: 3.1283 - acc: 0.7563\n",
            "Test accuracy 0.7562500238418579\n",
            "Test loss 3.1283023357391357\n"
          ],
          "name": "stdout"
        }
      ]
    },
    {
      "cell_type": "markdown",
      "metadata": {
        "id": "VhAPer-_Q-df"
      },
      "source": [
        "## Testing Data with 900 Frames (new simulations to check prformance in a different simulated set)\n"
      ]
    },
    {
      "cell_type": "code",
      "metadata": {
        "colab": {
          "base_uri": "https://localhost:8080/",
          "height": 421
        },
        "id": "z9_78ryKQ7xr",
        "outputId": "d2d8ebbc-b3fd-49f1-f553-464be829c4c6"
      },
      "source": [
        "Classes = scipy.io.loadmat('drive/MyDrive/Simul_0526_Test_binary_900Frames/classes.mat')\n",
        "Classes = Classes['classes']\n",
        "print(np.size(Classes))\n",
        "\n",
        "Traces = matlab.loadmat('drive/MyDrive/Simul_0526_Test_binary_900Frames/traces_steps.mat')\n",
        "Traces = Traces['traces_steps']\n",
        "Min_Traces = np.min(Traces,1)\n",
        "Traces = Traces / Min_Traces[:,None]\n",
        "print(Traces)\n",
        "print(Traces.shape)\n",
        "\n",
        "Traces_deriv = scipy.io.loadmat('drive/MyDrive/Simul_0526_Test_binary_900Frames/diff_CK_smooth.mat')\n",
        "Traces_deriv = Traces_deriv['diff_CK_smooth'] \n",
        "print(Traces_deriv.shape)"
      ],
      "execution_count": null,
      "outputs": [
        {
          "output_type": "error",
          "ename": "FileNotFoundError",
          "evalue": "ignored",
          "traceback": [
            "\u001b[0;31m---------------------------------------------------------------------------\u001b[0m",
            "\u001b[0;31mFileNotFoundError\u001b[0m                         Traceback (most recent call last)",
            "\u001b[0;32m/usr/local/lib/python3.7/dist-packages/scipy/io/matlab/mio.py\u001b[0m in \u001b[0;36m_open_file\u001b[0;34m(file_like, appendmat, mode)\u001b[0m\n\u001b[1;32m     38\u001b[0m     \u001b[0;32mtry\u001b[0m\u001b[0;34m:\u001b[0m\u001b[0;34m\u001b[0m\u001b[0;34m\u001b[0m\u001b[0m\n\u001b[0;32m---> 39\u001b[0;31m         \u001b[0;32mreturn\u001b[0m \u001b[0mopen\u001b[0m\u001b[0;34m(\u001b[0m\u001b[0mfile_like\u001b[0m\u001b[0;34m,\u001b[0m \u001b[0mmode\u001b[0m\u001b[0;34m)\u001b[0m\u001b[0;34m,\u001b[0m \u001b[0;32mTrue\u001b[0m\u001b[0;34m\u001b[0m\u001b[0;34m\u001b[0m\u001b[0m\n\u001b[0m\u001b[1;32m     40\u001b[0m     \u001b[0;32mexcept\u001b[0m \u001b[0mIOError\u001b[0m\u001b[0;34m:\u001b[0m\u001b[0;34m\u001b[0m\u001b[0;34m\u001b[0m\u001b[0m\n",
            "\u001b[0;31mFileNotFoundError\u001b[0m: [Errno 2] No such file or directory: 'drive/MyDrive/Simul_0526_Test_binary_900Frames/classes.mat'",
            "\nDuring handling of the above exception, another exception occurred:\n",
            "\u001b[0;31mFileNotFoundError\u001b[0m                         Traceback (most recent call last)",
            "\u001b[0;32m<ipython-input-28-ecafa420efd4>\u001b[0m in \u001b[0;36m<module>\u001b[0;34m()\u001b[0m\n\u001b[0;32m----> 1\u001b[0;31m \u001b[0mClasses\u001b[0m \u001b[0;34m=\u001b[0m \u001b[0mscipy\u001b[0m\u001b[0;34m.\u001b[0m\u001b[0mio\u001b[0m\u001b[0;34m.\u001b[0m\u001b[0mloadmat\u001b[0m\u001b[0;34m(\u001b[0m\u001b[0;34m'drive/MyDrive/Simul_0526_Test_binary_900Frames/classes.mat'\u001b[0m\u001b[0;34m)\u001b[0m\u001b[0;34m\u001b[0m\u001b[0;34m\u001b[0m\u001b[0m\n\u001b[0m\u001b[1;32m      2\u001b[0m \u001b[0mClasses\u001b[0m \u001b[0;34m=\u001b[0m \u001b[0mClasses\u001b[0m\u001b[0;34m[\u001b[0m\u001b[0;34m'classes'\u001b[0m\u001b[0;34m]\u001b[0m\u001b[0;34m\u001b[0m\u001b[0;34m\u001b[0m\u001b[0m\n\u001b[1;32m      3\u001b[0m \u001b[0mprint\u001b[0m\u001b[0;34m(\u001b[0m\u001b[0mnp\u001b[0m\u001b[0;34m.\u001b[0m\u001b[0msize\u001b[0m\u001b[0;34m(\u001b[0m\u001b[0mClasses\u001b[0m\u001b[0;34m)\u001b[0m\u001b[0;34m)\u001b[0m\u001b[0;34m\u001b[0m\u001b[0;34m\u001b[0m\u001b[0m\n\u001b[1;32m      4\u001b[0m \u001b[0;34m\u001b[0m\u001b[0m\n\u001b[1;32m      5\u001b[0m \u001b[0mTraces\u001b[0m \u001b[0;34m=\u001b[0m \u001b[0mmatlab\u001b[0m\u001b[0;34m.\u001b[0m\u001b[0mloadmat\u001b[0m\u001b[0;34m(\u001b[0m\u001b[0;34m'drive/MyDrive/Simul_0526_Test_binary_900Frames/traces_steps.mat'\u001b[0m\u001b[0;34m)\u001b[0m\u001b[0;34m\u001b[0m\u001b[0;34m\u001b[0m\u001b[0m\n",
            "\u001b[0;32m/usr/local/lib/python3.7/dist-packages/scipy/io/matlab/mio.py\u001b[0m in \u001b[0;36mloadmat\u001b[0;34m(file_name, mdict, appendmat, **kwargs)\u001b[0m\n\u001b[1;32m    214\u001b[0m     \"\"\"\n\u001b[1;32m    215\u001b[0m     \u001b[0mvariable_names\u001b[0m \u001b[0;34m=\u001b[0m \u001b[0mkwargs\u001b[0m\u001b[0;34m.\u001b[0m\u001b[0mpop\u001b[0m\u001b[0;34m(\u001b[0m\u001b[0;34m'variable_names'\u001b[0m\u001b[0;34m,\u001b[0m \u001b[0;32mNone\u001b[0m\u001b[0;34m)\u001b[0m\u001b[0;34m\u001b[0m\u001b[0;34m\u001b[0m\u001b[0m\n\u001b[0;32m--> 216\u001b[0;31m     \u001b[0;32mwith\u001b[0m \u001b[0m_open_file_context\u001b[0m\u001b[0;34m(\u001b[0m\u001b[0mfile_name\u001b[0m\u001b[0;34m,\u001b[0m \u001b[0mappendmat\u001b[0m\u001b[0;34m)\u001b[0m \u001b[0;32mas\u001b[0m \u001b[0mf\u001b[0m\u001b[0;34m:\u001b[0m\u001b[0;34m\u001b[0m\u001b[0;34m\u001b[0m\u001b[0m\n\u001b[0m\u001b[1;32m    217\u001b[0m         \u001b[0mMR\u001b[0m\u001b[0;34m,\u001b[0m \u001b[0m_\u001b[0m \u001b[0;34m=\u001b[0m \u001b[0mmat_reader_factory\u001b[0m\u001b[0;34m(\u001b[0m\u001b[0mf\u001b[0m\u001b[0;34m,\u001b[0m \u001b[0;34m**\u001b[0m\u001b[0mkwargs\u001b[0m\u001b[0;34m)\u001b[0m\u001b[0;34m\u001b[0m\u001b[0;34m\u001b[0m\u001b[0m\n\u001b[1;32m    218\u001b[0m         \u001b[0mmatfile_dict\u001b[0m \u001b[0;34m=\u001b[0m \u001b[0mMR\u001b[0m\u001b[0;34m.\u001b[0m\u001b[0mget_variables\u001b[0m\u001b[0;34m(\u001b[0m\u001b[0mvariable_names\u001b[0m\u001b[0;34m)\u001b[0m\u001b[0;34m\u001b[0m\u001b[0;34m\u001b[0m\u001b[0m\n",
            "\u001b[0;32m/usr/lib/python3.7/contextlib.py\u001b[0m in \u001b[0;36m__enter__\u001b[0;34m(self)\u001b[0m\n\u001b[1;32m    110\u001b[0m         \u001b[0;32mdel\u001b[0m \u001b[0mself\u001b[0m\u001b[0;34m.\u001b[0m\u001b[0margs\u001b[0m\u001b[0;34m,\u001b[0m \u001b[0mself\u001b[0m\u001b[0;34m.\u001b[0m\u001b[0mkwds\u001b[0m\u001b[0;34m,\u001b[0m \u001b[0mself\u001b[0m\u001b[0;34m.\u001b[0m\u001b[0mfunc\u001b[0m\u001b[0;34m\u001b[0m\u001b[0;34m\u001b[0m\u001b[0m\n\u001b[1;32m    111\u001b[0m         \u001b[0;32mtry\u001b[0m\u001b[0;34m:\u001b[0m\u001b[0;34m\u001b[0m\u001b[0;34m\u001b[0m\u001b[0m\n\u001b[0;32m--> 112\u001b[0;31m             \u001b[0;32mreturn\u001b[0m \u001b[0mnext\u001b[0m\u001b[0;34m(\u001b[0m\u001b[0mself\u001b[0m\u001b[0;34m.\u001b[0m\u001b[0mgen\u001b[0m\u001b[0;34m)\u001b[0m\u001b[0;34m\u001b[0m\u001b[0;34m\u001b[0m\u001b[0m\n\u001b[0m\u001b[1;32m    113\u001b[0m         \u001b[0;32mexcept\u001b[0m \u001b[0mStopIteration\u001b[0m\u001b[0;34m:\u001b[0m\u001b[0;34m\u001b[0m\u001b[0;34m\u001b[0m\u001b[0m\n\u001b[1;32m    114\u001b[0m             \u001b[0;32mraise\u001b[0m \u001b[0mRuntimeError\u001b[0m\u001b[0;34m(\u001b[0m\u001b[0;34m\"generator didn't yield\"\u001b[0m\u001b[0;34m)\u001b[0m \u001b[0;32mfrom\u001b[0m \u001b[0;32mNone\u001b[0m\u001b[0;34m\u001b[0m\u001b[0;34m\u001b[0m\u001b[0m\n",
            "\u001b[0;32m/usr/local/lib/python3.7/dist-packages/scipy/io/matlab/mio.py\u001b[0m in \u001b[0;36m_open_file_context\u001b[0;34m(file_like, appendmat, mode)\u001b[0m\n\u001b[1;32m     17\u001b[0m \u001b[0;34m@\u001b[0m\u001b[0mcontextmanager\u001b[0m\u001b[0;34m\u001b[0m\u001b[0;34m\u001b[0m\u001b[0m\n\u001b[1;32m     18\u001b[0m \u001b[0;32mdef\u001b[0m \u001b[0m_open_file_context\u001b[0m\u001b[0;34m(\u001b[0m\u001b[0mfile_like\u001b[0m\u001b[0;34m,\u001b[0m \u001b[0mappendmat\u001b[0m\u001b[0;34m,\u001b[0m \u001b[0mmode\u001b[0m\u001b[0;34m=\u001b[0m\u001b[0;34m'rb'\u001b[0m\u001b[0;34m)\u001b[0m\u001b[0;34m:\u001b[0m\u001b[0;34m\u001b[0m\u001b[0;34m\u001b[0m\u001b[0m\n\u001b[0;32m---> 19\u001b[0;31m     \u001b[0mf\u001b[0m\u001b[0;34m,\u001b[0m \u001b[0mopened\u001b[0m \u001b[0;34m=\u001b[0m \u001b[0m_open_file\u001b[0m\u001b[0;34m(\u001b[0m\u001b[0mfile_like\u001b[0m\u001b[0;34m,\u001b[0m \u001b[0mappendmat\u001b[0m\u001b[0;34m,\u001b[0m \u001b[0mmode\u001b[0m\u001b[0;34m)\u001b[0m\u001b[0;34m\u001b[0m\u001b[0;34m\u001b[0m\u001b[0m\n\u001b[0m\u001b[1;32m     20\u001b[0m     \u001b[0;32myield\u001b[0m \u001b[0mf\u001b[0m\u001b[0;34m\u001b[0m\u001b[0;34m\u001b[0m\u001b[0m\n\u001b[1;32m     21\u001b[0m     \u001b[0;32mif\u001b[0m \u001b[0mopened\u001b[0m\u001b[0;34m:\u001b[0m\u001b[0;34m\u001b[0m\u001b[0;34m\u001b[0m\u001b[0m\n",
            "\u001b[0;32m/usr/local/lib/python3.7/dist-packages/scipy/io/matlab/mio.py\u001b[0m in \u001b[0;36m_open_file\u001b[0;34m(file_like, appendmat, mode)\u001b[0m\n\u001b[1;32m     43\u001b[0m             \u001b[0;32mif\u001b[0m \u001b[0mappendmat\u001b[0m \u001b[0;32mand\u001b[0m \u001b[0;32mnot\u001b[0m \u001b[0mfile_like\u001b[0m\u001b[0;34m.\u001b[0m\u001b[0mendswith\u001b[0m\u001b[0;34m(\u001b[0m\u001b[0;34m'.mat'\u001b[0m\u001b[0;34m)\u001b[0m\u001b[0;34m:\u001b[0m\u001b[0;34m\u001b[0m\u001b[0;34m\u001b[0m\u001b[0m\n\u001b[1;32m     44\u001b[0m                 \u001b[0mfile_like\u001b[0m \u001b[0;34m+=\u001b[0m \u001b[0;34m'.mat'\u001b[0m\u001b[0;34m\u001b[0m\u001b[0;34m\u001b[0m\u001b[0m\n\u001b[0;32m---> 45\u001b[0;31m             \u001b[0;32mreturn\u001b[0m \u001b[0mopen\u001b[0m\u001b[0;34m(\u001b[0m\u001b[0mfile_like\u001b[0m\u001b[0;34m,\u001b[0m \u001b[0mmode\u001b[0m\u001b[0;34m)\u001b[0m\u001b[0;34m,\u001b[0m \u001b[0;32mTrue\u001b[0m\u001b[0;34m\u001b[0m\u001b[0;34m\u001b[0m\u001b[0m\n\u001b[0m\u001b[1;32m     46\u001b[0m         \u001b[0;32melse\u001b[0m\u001b[0;34m:\u001b[0m\u001b[0;34m\u001b[0m\u001b[0;34m\u001b[0m\u001b[0m\n\u001b[1;32m     47\u001b[0m             \u001b[0;32mraise\u001b[0m \u001b[0mIOError\u001b[0m\u001b[0;34m(\u001b[0m\u001b[0;34m'Reader needs file name or open file-like object'\u001b[0m\u001b[0;34m)\u001b[0m\u001b[0;34m\u001b[0m\u001b[0;34m\u001b[0m\u001b[0m\n",
            "\u001b[0;31mFileNotFoundError\u001b[0m: [Errno 2] No such file or directory: 'drive/MyDrive/Simul_0526_Test_binary_900Frames/classes.mat'"
          ]
        }
      ]
    },
    {
      "cell_type": "markdown",
      "metadata": {
        "id": "ae9vA6bQ6t7v"
      },
      "source": [
        "## Sliding Window"
      ]
    },
    {
      "cell_type": "code",
      "metadata": {
        "id": "00XSHmVIr4Mr"
      },
      "source": [
        "## technique which can be used potentially for teh diviation of larger timseries to smaller ones in order to classify them with our current NN.\n",
        "traces = []\n",
        "sliding_window = 300;\n",
        "overlap_steps = 300;\n",
        "print(Traces.shape[1])\n",
        "timesteps = Traces.shape[1]\n",
        "\n",
        "print(timesteps)\n",
        "print(Train_samples)\n",
        "\n",
        "for i in range(Traces.shape[0]): \n",
        "  \n",
        "  for j in range(0, timesteps, overlap_steps):\n",
        "    \n",
        "    traces.append(Traces[i,j:j+sliding_window])\n",
        "\n",
        "traces = np.array(traces)\n",
        "# traces = traces.reshape(traces.shape[0], traces.shape[1], 1)\n",
        "print(traces.shape)\n",
        "\n",
        "traces_deriv = []\n",
        "\n",
        "\n",
        "print(timesteps)\n",
        "print(Train_samples)\n",
        "\n",
        "for i in range(Traces.shape[0]): \n",
        "  \n",
        "  for j in range(0, timesteps, overlap_steps):\n",
        "    \n",
        "    traces_deriv.append(Traces_deriv[i,j:j+sliding_window])\n",
        "\n",
        "traces_deriv = np.array(traces_deriv)\n",
        "# traces_deriv = traces_deriv.reshape(traces_deriv.shape[0], traces_deriv.shape[1], 1)\n",
        "\n",
        "Combo_test = np.zeros((traces.shape[0],traces.shape[1],2))\n",
        "print(Combo_test.shape)\n",
        "Combo_test[:,:,0] = traces_deriv\n",
        "Combo_test[:,:,1] = traces"
      ],
      "execution_count": null,
      "outputs": []
    },
    {
      "cell_type": "code",
      "metadata": {
        "id": "XxcTOeDXr581"
      },
      "source": [
        "yhat = model.predict(Combo_test)"
      ],
      "execution_count": null,
      "outputs": []
    },
    {
      "cell_type": "code",
      "metadata": {
        "id": "waF2Y4wPBJ8Z"
      },
      "source": [
        "yhat = np.round(yhat)\n",
        "#print(np.round(yhat))\n",
        "#print(yhat.shape)\n",
        "print(np.sum(yhat))\n",
        "print(np.sum(Real_Classes))\n",
        "print(Real_Classes.shape)\n",
        "#print(yhat==Real_Classes)\n",
        "#print(Real_Classes == 1)\n",
        "print(Real_Classes[0,0])"
      ],
      "execution_count": null,
      "outputs": []
    },
    {
      "cell_type": "code",
      "metadata": {
        "id": "QkuqFpEsBXXE"
      },
      "source": [
        "Classes_test = np.zeros(Classes.shape[0])\n",
        "print(Classes_test.shape)\n",
        "i=0\n",
        "while i < Classes.shape[0]:\n",
        "  print(yhat[i])\n",
        "  i+1\n",
        "#   print(yhat[i],yhat[i+1],yhat[i+2])\n",
        "#   Classes_test[i] = yhat[i] + yhat[i+1] + yhat[i+2]\n",
        "#   print(Classes_test)\n",
        "# print(np.round(Classes_test))\n",
        "  "
      ],
      "execution_count": null,
      "outputs": []
    },
    {
      "cell_type": "code",
      "metadata": {
        "id": "RsyvBB4R6t0h"
      },
      "source": [
        "def evaluate_model(trainX, trainy, testX, testy):\n",
        "\tverbose, epochs, batch_size = 0, 15, 64\n",
        "\tn_timesteps, n_features, n_outputs = trainX.shape[1], trainX.shape[2], trainy.shape[1]\n",
        "  \n",
        "\tmodel = Sequential()\n",
        "  model.add(LSTM(900, input_shape=(n_timesteps,n_features)))\n",
        "  model.add(Dropout(0.5))\n",
        "  model.add(Dense(800, activation='relu'))\n",
        "  model.add(Dense(3, activation='softmax'))\n",
        "  model.summary()\n",
        "  model.compile(loss='categorical_crossentropy', optimizer=tf.keras.optimizers.Adam(learning_rate=0.0001), metrics = ['acc'])\n",
        "  \n",
        "\t# fit network\n",
        "\tmodel.fit(trainX, trainy, epochs=epochs, batch_size=batch_size, verbose=verbose)\n",
        "\t# evaluate model\n",
        "\t_, accuracy = model.evaluate(testX, testy, batch_size=batch_size, verbose=0)\n",
        "\treturn accuracy"
      ],
      "execution_count": null,
      "outputs": []
    },
    {
      "cell_type": "code",
      "metadata": {
        "id": "f4m0pV0OvfKG"
      },
      "source": [
        "scores = list()\n",
        "for r in range(repeats):\n",
        "\tscore = evaluate_model(trainX, trainy, testX, testy)\n",
        "\tscore = score * 100.0\n",
        "\tprint('>#%d: %.3f' % (r+1, score))\n",
        "\tscores.append(score)"
      ],
      "execution_count": null,
      "outputs": []
    },
    {
      "cell_type": "code",
      "metadata": {
        "id": "IEFa7XPFvngF"
      },
      "source": [
        "# summarize scores\n",
        "def summarize_results(scores):\n",
        "\tprint(scores)\n",
        "\tm, s = mean(scores), std(scores)\n",
        "\tprint('Accuracy: %.3f%% (+/-%.3f)' % (m, s))"
      ],
      "execution_count": null,
      "outputs": []
    }
  ]
}